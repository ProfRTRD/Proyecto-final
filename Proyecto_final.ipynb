{
  "nbformat": 4,
  "nbformat_minor": 0,
  "metadata": {
    "colab": {
      "provenance": [],
      "include_colab_link": true
    },
    "kernelspec": {
      "name": "python3",
      "display_name": "Python 3"
    },
    "language_info": {
      "name": "python"
    }
  },
  "cells": [
    {
      "cell_type": "markdown",
      "metadata": {
        "id": "view-in-github",
        "colab_type": "text"
      },
      "source": [
        "<a href=\"https://colab.research.google.com/github/ProfRTRD/Proyecto-final/blob/main/Proyecto_final.ipynb\" target=\"_parent\"><img src=\"https://colab.research.google.com/assets/colab-badge.svg\" alt=\"Open In Colab\"/></a>"
      ]
    },
    {
      "cell_type": "code",
      "execution_count": null,
      "metadata": {
        "id": "GZF2F-Ji_phl"
      },
      "outputs": [],
      "source": []
    },
    {
      "cell_type": "markdown",
      "source": [
        "$H=\\frac{P_1^2}{2m_1}+\\frac{P_2^2}{2m_2}+v_0(e^\\frac{-q_1}{d}+e^\\frac{q_2}{d}+e^\\frac{-(q_2-q_1)}{d})$\n",
        "\n",
        "> Bloc con sangría\n",
        "\n",
        "> Bloc con sangría\n",
        "\n",
        "\n",
        "\n"
      ],
      "metadata": {
        "id": "vwtQuiCo_5QM"
      }
    },
    {
      "cell_type": "code",
      "source": [
        "import numpy as np\n",
        "#INTENTO 1\n",
        "def simplectic_example(y, t):\n",
        "    return np.array([y[1], -y[0]])\n",
        "\n",
        "def ode_solver(f, y0, t, dt):\n",
        "    # Initial conditions\n",
        "    y = np.array(y0)\n",
        "\n",
        "    # Apply Runge-Kutta method\n",
        "    for i in range(1, len(t)):\n",
        "        # Compute the increment\n",
        "        y_next = y + dt * f(y, t[i-1])\n",
        "\n",
        "        # Update the solution\n",
        "        y = y_next\n",
        "\n",
        "    return y\n",
        "\n",
        "# Test the solver\n",
        "y0 = np.array([1, 0])\n",
        "t = np.linspace(0, 10, 1000)\n",
        "dt = t[1] - t[0]\n",
        "\n",
        "solution = ode_solver(simplectic_example, y0, t, dt)\n",
        "\n",
        "print(solution)"
      ],
      "metadata": {
        "colab": {
          "base_uri": "https://localhost:8080/"
        },
        "id": "c28CipjfDfFw",
        "outputId": "d3eb9546-ebd3-45b5-eac2-44d229329568"
      },
      "execution_count": null,
      "outputs": [
        {
          "output_type": "stream",
          "name": "stdout",
          "text": [
            "[-0.88232455  0.57164621]\n"
          ]
        }
      ]
    },
    {
      "cell_type": "code",
      "source": [
        "import numpy as np\n",
        "#INTENTO 2\n",
        "\n",
        "# Define the function F\n",
        "def F(x, y):\n",
        "    # Calculate dy/dt\n",
        "    dy_dt = g(x, y)\n",
        "\n",
        "    # Calculate dx/dt\n",
        "    dx_dt = f(x, y)\n",
        "\n",
        "    return dy_dt, dx_dt\n",
        "\n",
        "# Define the function that will implement the RK4 method\n",
        "def RK4(f, x0, y0, h, steps):\n",
        "    x = np.zeros(steps + 1)\n",
        "    y = np.zeros(steps + 1)\n",
        "    x[0], y[0] = x0, y0\n",
        "\n",
        "    for i in range(steps):\n",
        "        k1 = h * f(x[i], y[i])\n",
        "        l1 = h * f(x[i] + 0.5 * h, y[i] + 0.5 * k1)\n",
        "        k2 = h * f(x[i] + 0.5 * h, y[i] + 0.5 * l1)\n",
        "        l2 = h * f(x[i] + h, y[i] + k2)\n",
        "\n",
        "        x[i + 1] = x[i] + (k1 + 2 * l1 + 2 * k2 + l2) / 6\n",
        "        y[i + 1] = y[i] + (k1 + 2 * l1 + 2 * k2 + l2) / 6\n",
        "\n",
        "    return x, y\n",
        "\n",
        "# Define the functions f and g\n",
        "def f(x, y):\n",
        "    return x - y\n",
        "\n",
        "def g(x, y):\n",
        "    return x + y\n",
        "\n",
        "# Set the initial conditions\n",
        "x0, y0 = 1, 1\n",
        "\n",
        "# Set the time step and the number of steps\n",
        "h, steps = 0.1, 100\n",
        "\n",
        "# Call the RK4 function\n",
        "x, y = RK4(F, x0, y0, h, steps)\n",
        "\n",
        "# Print the results\n",
        "print(\"x = \", x)\n",
        "print(\"y = \", y)"
      ],
      "metadata": {
        "id": "MZa7YltHGNgg",
        "outputId": "d20604bf-f087-437d-bbdf-f3cf64c9ef5e",
        "colab": {
          "base_uri": "https://localhost:8080/",
          "height": 366
        }
      },
      "execution_count": null,
      "outputs": [
        {
          "output_type": "error",
          "ename": "TypeError",
          "evalue": "ignored",
          "traceback": [
            "\u001b[0;31m---------------------------------------------------------------------------\u001b[0m",
            "\u001b[0;31mTypeError\u001b[0m                                 Traceback (most recent call last)",
            "\u001b[0;32m<ipython-input-4-7b171d9dd88a>\u001b[0m in \u001b[0;36m<cell line: 45>\u001b[0;34m()\u001b[0m\n\u001b[1;32m     43\u001b[0m \u001b[0;34m\u001b[0m\u001b[0m\n\u001b[1;32m     44\u001b[0m \u001b[0;31m# Call the RK4 function\u001b[0m\u001b[0;34m\u001b[0m\u001b[0;34m\u001b[0m\u001b[0m\n\u001b[0;32m---> 45\u001b[0;31m \u001b[0mx\u001b[0m\u001b[0;34m,\u001b[0m \u001b[0my\u001b[0m \u001b[0;34m=\u001b[0m \u001b[0mRK4\u001b[0m\u001b[0;34m(\u001b[0m\u001b[0mF\u001b[0m\u001b[0;34m,\u001b[0m \u001b[0mx0\u001b[0m\u001b[0;34m,\u001b[0m \u001b[0my0\u001b[0m\u001b[0;34m,\u001b[0m \u001b[0mh\u001b[0m\u001b[0;34m,\u001b[0m \u001b[0msteps\u001b[0m\u001b[0;34m)\u001b[0m\u001b[0;34m\u001b[0m\u001b[0;34m\u001b[0m\u001b[0m\n\u001b[0m\u001b[1;32m     46\u001b[0m \u001b[0;34m\u001b[0m\u001b[0m\n\u001b[1;32m     47\u001b[0m \u001b[0;31m# Print the results\u001b[0m\u001b[0;34m\u001b[0m\u001b[0;34m\u001b[0m\u001b[0m\n",
            "\u001b[0;32m<ipython-input-4-7b171d9dd88a>\u001b[0m in \u001b[0;36mRK4\u001b[0;34m(f, x0, y0, h, steps)\u001b[0m\n\u001b[1;32m     19\u001b[0m \u001b[0;34m\u001b[0m\u001b[0m\n\u001b[1;32m     20\u001b[0m     \u001b[0;32mfor\u001b[0m \u001b[0mi\u001b[0m \u001b[0;32min\u001b[0m \u001b[0mrange\u001b[0m\u001b[0;34m(\u001b[0m\u001b[0msteps\u001b[0m\u001b[0;34m)\u001b[0m\u001b[0;34m:\u001b[0m\u001b[0;34m\u001b[0m\u001b[0;34m\u001b[0m\u001b[0m\n\u001b[0;32m---> 21\u001b[0;31m         \u001b[0mk1\u001b[0m \u001b[0;34m=\u001b[0m \u001b[0mh\u001b[0m \u001b[0;34m*\u001b[0m \u001b[0mf\u001b[0m\u001b[0;34m(\u001b[0m\u001b[0mx\u001b[0m\u001b[0;34m[\u001b[0m\u001b[0mi\u001b[0m\u001b[0;34m]\u001b[0m\u001b[0;34m,\u001b[0m \u001b[0my\u001b[0m\u001b[0;34m[\u001b[0m\u001b[0mi\u001b[0m\u001b[0;34m]\u001b[0m\u001b[0;34m)\u001b[0m\u001b[0;34m\u001b[0m\u001b[0;34m\u001b[0m\u001b[0m\n\u001b[0m\u001b[1;32m     22\u001b[0m         \u001b[0ml1\u001b[0m \u001b[0;34m=\u001b[0m \u001b[0mh\u001b[0m \u001b[0;34m*\u001b[0m \u001b[0mf\u001b[0m\u001b[0;34m(\u001b[0m\u001b[0mx\u001b[0m\u001b[0;34m[\u001b[0m\u001b[0mi\u001b[0m\u001b[0;34m]\u001b[0m \u001b[0;34m+\u001b[0m \u001b[0;36m0.5\u001b[0m \u001b[0;34m*\u001b[0m \u001b[0mh\u001b[0m\u001b[0;34m,\u001b[0m \u001b[0my\u001b[0m\u001b[0;34m[\u001b[0m\u001b[0mi\u001b[0m\u001b[0;34m]\u001b[0m \u001b[0;34m+\u001b[0m \u001b[0;36m0.5\u001b[0m \u001b[0;34m*\u001b[0m \u001b[0mk1\u001b[0m\u001b[0;34m)\u001b[0m\u001b[0;34m\u001b[0m\u001b[0;34m\u001b[0m\u001b[0m\n\u001b[1;32m     23\u001b[0m         \u001b[0mk2\u001b[0m \u001b[0;34m=\u001b[0m \u001b[0mh\u001b[0m \u001b[0;34m*\u001b[0m \u001b[0mf\u001b[0m\u001b[0;34m(\u001b[0m\u001b[0mx\u001b[0m\u001b[0;34m[\u001b[0m\u001b[0mi\u001b[0m\u001b[0;34m]\u001b[0m \u001b[0;34m+\u001b[0m \u001b[0;36m0.5\u001b[0m \u001b[0;34m*\u001b[0m \u001b[0mh\u001b[0m\u001b[0;34m,\u001b[0m \u001b[0my\u001b[0m\u001b[0;34m[\u001b[0m\u001b[0mi\u001b[0m\u001b[0;34m]\u001b[0m \u001b[0;34m+\u001b[0m \u001b[0;36m0.5\u001b[0m \u001b[0;34m*\u001b[0m \u001b[0ml1\u001b[0m\u001b[0;34m)\u001b[0m\u001b[0;34m\u001b[0m\u001b[0;34m\u001b[0m\u001b[0m\n",
            "\u001b[0;31mTypeError\u001b[0m: can't multiply sequence by non-int of type 'float'"
          ]
        }
      ]
    },
    {
      "cell_type": "code",
      "source": [
        "import numpy as np\n",
        "#INTENTO 3\n",
        "def runge_kutta_simp_order5(f, y0, t):\n",
        "    dt = t[1] - t[0]\n",
        "    y = np.zeros((len(t), len(y0)))\n",
        "    y[0] = y0\n",
        "\n",
        "    # Coeficientes de Butcher para un método simpléctico de orden 5\n",
        "    a = np.array([[0, 0, 0, 0, 0],\n",
        "                  [1/5, 0, 0, 0, 0],\n",
        "                  [3/40, 9/40, 0, 0, 0],\n",
        "                  [3/10, -9/10, 6/5, 0, 0],\n",
        "                  [-11/54, 5/2, -70/27, 35/27, 0]])\n",
        "    b = np.array([1631/55296, 175/512, 575/13824, 44275/110592, 253/4096])\n",
        "\n",
        "    for i in range(len(t) - 1):\n",
        "        k = np.zeros((5, len(y0)))\n",
        "        for j in range(5):\n",
        "            k[j] = f(t[i] + a[j, j]*dt, y[i] + dt*np.sum(a[j, :j]*k[:j], axis=0))\n",
        "        y[i+1] = y[i] + dt*np.sum(b[:, np.newaxis]*k, axis=0)\n",
        "    return y\n"
      ],
      "metadata": {
        "id": "LDpj6HjdGvlT"
      },
      "execution_count": null,
      "outputs": []
    },
    {
      "cell_type": "code",
      "source": [
        "import numpy as np\n",
        "import matplotlib.pyplot as plt\n",
        "\n",
        "def functi(x,y):\n",
        "  return x - 2*y\n",
        "h = 0.01\n",
        "y = 1\n",
        "x = 0\n",
        "X = [x]\n",
        "Y = [y]\n",
        "Y_exact = [y]\n",
        "\n",
        "def phi_functi(a,b,c,d,e):\n",
        "  return (7*a + 32*b + 12*c + 32*d + 7*e)/90\n",
        "\n",
        "while x <= 5:\n",
        "  Y_exact.append((2*x+5*np.exp(-2*x)-1)/4)\n",
        "  k_1 = functi(x,y)\n",
        "  k_2 = functi(x + 1/4*h, y + 1/4*k_1*h)\n",
        "  k_3 = functi(x + 1/4*h, y + 1/8*k_1*h + 1/8*k_2*h)\n",
        "  k_4 = functi(x + 1/2*h, y - 1/2*k_2*h + k_3*h)\n",
        "  k_5 = functi(x + 3/4*h, y + 3/16*k_1*h + 9/16*k_4*h)\n",
        "  k_6 = functi(x + h, y - 3/7*k_1*h + 2/7*k_2*h + 12/7*k_3 * h - 12/7*k_4*h + 8/7*k_5*h)\n",
        "  y += phi_functi(k_1,k_3,k_4,k_5,k_6) * h\n",
        "  x += h\n",
        "  X.append(x)\n",
        "  Y.append(y)\n",
        "\n",
        "plt.title(\"Soluciones exacta y por Runge Kutta 5°\")\n",
        "plt.plot(X,Y,'g',label='Runge Kutta 5°')\n",
        "plt.plot(X,Y_exact,'y--',label='Solución Exacta ')\n",
        "plt.ylabel('Y')\n",
        "plt.xlabel('X')\n",
        "plt.legend(loc='upper left')\n",
        "plt.show()"
      ],
      "metadata": {
        "colab": {
          "base_uri": "https://localhost:8080/",
          "height": 472
        },
        "id": "JP8i3RorIGg-",
        "outputId": "d1792bc4-4734-4c36-aff0-6409d9bdbc97"
      },
      "execution_count": null,
      "outputs": [
        {
          "output_type": "display_data",
          "data": {
            "text/plain": [
              "<Figure size 640x480 with 1 Axes>"
            ],
            "image/png": "[encoded data removed]"
          },
          "metadata": {}
        }
      ]
    },
    {
      "cell_type": "code",
      "source": [
        "import numpy as np\n",
        "import matplotlib.pyplot as plt\n",
        "def phi(a,b,c,d,e):\n",
        "  A = (7*a + 32*b + 12*c + 32*d + 7*e)/90\n",
        "  return A\n",
        "\n",
        "def f(t,p1,p2,q1,q2):\n",
        "  return p2\n",
        "\n",
        "def g(t,p1,p2,q1,q2):\n",
        "  return p1\n",
        "\n",
        "def l(t,p1,p2,q1,q2):\n",
        "  return q1\n",
        "\n",
        "def k(t,p1,p2,q1,q2):\n",
        "  return q2\n",
        "\n",
        "p1=1\n",
        "p2=1\n",
        "q1 = 1\n",
        "q2 = 1\n",
        "t=0\n",
        "h=0.001\n",
        "T = [t]\n",
        "P1 = [p1]\n",
        "P2 = [p2] #Guardara los valores para graficarlos\n",
        "Q1 = [q1]\n",
        "Q2 = [q2]\n",
        "\n",
        "while t <= 5:\n",
        "  k_1p1 = f(t,p1,p2,q1,q2)\n",
        "  k_1p2 = g(t,p1,p2,q1,q2)\n",
        "  k_1q1 = l(t,p1,p2,q1,q2)\n",
        "  k_1q2 = k(t,p1,p2,q1,q2)\n",
        "\n",
        "  k_2p1 = f(t + 0.25*h, p1 + 0.25*k_1p1*h , p2 + 0.25*k_1p1*h, q1+0.25*k_1p1*h, q2 + 0.25*k_1p1*h)\n",
        "  k_2p2 = g(t + 0.25*h, p1 + 0.25*k_1p1*h , p2 + 0.25*k_1p1*h, q1+0.25*k_1p1*h, q2 + 0.25*k_1p1*h)\n",
        "  k_2q1 = l(t + 0.25*h, p1 + 0.25*k_1p1*h , p2 + 0.25*k_1p1*h, q1+0.25*k_1p1*h, q2 + 0.25*k_1p1*h)\n",
        "  k_2q2 = k(t + 0.25*h, p1 + 0.25*k_1p1*h , p2 + 0.25*k_1p1*h, q1+0.25*k_1p1*h, q2 + 0.25*k_1p1*h)\n",
        "\n",
        "  k_3p1 = f(t + 0.25*h, p1 + 0.125*k_1p1*h + 0.125*k_2p1*h , p2 + 0.125*k_1p2*h + 0.125*k_2p2*h, q1 + 0.125*k_1q1*h + 0.125*k_2q1*h , q2 + 0.125*k_1q2*h + 0.125*k_2q2*h)\n",
        "  k_3p2 = g(t + 0.25*h, p1 + 0.125*k_1p1*h + 0.125*k_2p1*h , p2 + 0.125*k_1p2*h + 0.125*k_2p2*h, q1 + 0.125*k_1q1*h + 0.125*k_2q1*h , q2 + 0.125*k_1q2*h + 0.125*k_2q2*h)\n",
        "  k_3q1 = l(t + 0.25*h, p1 + 0.125*k_1p1*h + 0.125*k_2p1*h , p2 + 0.125*k_1p2*h + 0.125*k_2p2*h, q1 + 0.125*k_1q1*h + 0.125*k_2q1*h , q2 + 0.125*k_1q2*h + 0.125*k_2q2*h)\n",
        "  k_3q2 = k(t + 0.25*h, p1 + 0.125*k_1p1*h + 0.125*k_2p1*h , p2 + 0.125*k_1p2*h + 0.125*k_2p2*h, q1 + 0.125*k_1q1*h + 0.125*k_2q1*h , q2 + 0.125*k_1q2*h + 0.125*k_2q2*h)\n",
        "\n",
        "  k_4p1 = f(t + 0.5*h, p1 - 0.5*k_2p1*h + k_3p1*h , p2 - 0.5*k_2p2*h + k_3p2*h, q1 - 0.5*k_2q1*h + k_3q1*h , q2 - 0.5*k_2q2*h + k_3q2*h)\n",
        "  k_4p2 = g(t + 0.5*h, p1 - 0.5*k_2p1*h + k_3p1*h , p2 - 0.5*k_2p2*h + k_3p2*h, q1 - 0.5*k_2q1*h + k_3q1*h , q2 - 0.5*k_2q2*h + k_3q2*h)\n",
        "  k_4q1 = l(t + 0.5*h, p1 - 0.5*k_2p1*h + k_3p1*h , p2 - 0.5*k_2p2*h + k_3p2*h, q1 - 0.5*k_2q1*h + k_3q1*h , q2 - 0.5*k_2q2*h + k_3q2*h)\n",
        "  k_4q2 = k(t + 0.5*h, p1 - 0.5*k_2p1*h + k_3p1*h , p2 - 0.5*k_2p2*h + k_3p2*h, q1 - 0.5*k_2q1*h + k_3q1*h , q2 - 0.5*k_2q2*h + k_3q2*h)\n",
        "\n",
        "  k_5p1 = f(t + 0.75*h, p1 + (3/16)*k_1p1*h + (9/16)*k_4p1*h , p2 + (3/16)*k_1p2*h + (9/16)*k_4p2*h, q1 + (3/16)*k_1q1*h + (9/16)*k_4q1*h , q2 + (3/16)*k_1q2*h + (9/16)*k_4q2*h)\n",
        "  k_5p2 = g(t + 0.75*h, p1 + (3/16)*k_1p1*h + (9/16)*k_4p1*h , p2 + (3/16)*k_1p2*h + (9/16)*k_4p2*h, q1 + (3/16)*k_1q1*h + (9/16)*k_4q1*h , q2 + (3/16)*k_1q2*h + (9/16)*k_4q2*h)\n",
        "  k_5q1 = l(t + 0.75*h, p1 + (3/16)*k_1p1*h + (9/16)*k_4p1*h , p2 + (3/16)*k_1p2*h + (9/16)*k_4p2*h, q1 + (3/16)*k_1q1*h + (9/16)*k_4q1*h , q2 + (3/16)*k_1q2*h + (9/16)*k_4q2*h)\n",
        "  k_5q2 = k(t + 0.75*h, p1 + (3/16)*k_1p1*h + (9/16)*k_4p1*h , p2 + (3/16)*k_1p2*h + (9/16)*k_4p2*h, q1 + (3/16)*k_1q1*h + (9/16)*k_4q1*h , q2 + (3/16)*k_1q2*h + (9/16)*k_4q2*h)\n",
        "\n",
        "  k_6p1 = f(t + h, p1 - (3/7)*k_1p1*h + (2/7)*k_2p1*h + (12/7)*k_3p1 * h - (12/7)*k_4p1*h + (8/7)*k_5p1*h\n",
        "           , p2 - (3/7)*k_1p2*h + (2/7)*k_2p2*h + (12/7)*k_3p2 * h - (12/7)*k_4p2*h + (8/7)*k_5p2*h\n",
        "            , q1 - (3/7)*k_1q1*h + (2/7)*k_2q1*h + (12/7)*k_3q1 * h - (12/7)*k_4q1*h + (8/7)*k_5q1*h\n",
        "            , q2 - (3/7)*k_1q1*h + (2/7)*k_2q2*h + (12/7)*k_3q2 * h - (12/7)*k_4q2*h + (8/7)*k_5q2*h)\n",
        "\n",
        "  k_6p2 = g(t + h, p1 - (3/7)*k_1p1*h + (2/7)*k_2p1*h + (12/7)*k_3p1 * h - (12/7)*k_4p1*h + (8/7)*k_5p1*h\n",
        "           , p2 - (3/7)*k_1p2*h + (2/7)*k_2p2*h + (12/7)*k_3p2 * h - (12/7)*k_4p2*h + (8/7)*k_5p2*h\n",
        "            , q1 - (3/7)*k_1q1*h + (2/7)*k_2q1*h + (12/7)*k_3q1 * h - (12/7)*k_4q1*h + (8/7)*k_5q1*h\n",
        "            , q2 - (3/7)*k_1q1*h + (2/7)*k_2q2*h + (12/7)*k_3q2 * h - (12/7)*k_4q2*h + (8/7)*k_5q2*h)\n",
        "\n",
        "  k_6q1 = l(t + h, p1 - (3/7)*k_1p1*h + (2/7)*k_2p1*h + (12/7)*k_3p1 * h - (12/7)*k_4p1*h + (8/7)*k_5p1*h\n",
        "           , p2 - (3/7)*k_1p2*h + (2/7)*k_2p2*h + (12/7)*k_3p2 * h - (12/7)*k_4p2*h + (8/7)*k_5p2*h\n",
        "            , q1 - (3/7)*k_1q1*h + (2/7)*k_2q1*h + (12/7)*k_3q1 * h - (12/7)*k_4q1*h + (8/7)*k_5q1*h\n",
        "            , q2 - (3/7)*k_1q1*h + (2/7)*k_2q2*h + (12/7)*k_3q2 * h - (12/7)*k_4q2*h + (8/7)*k_5q2*h)\n",
        "\n",
        "  k_6q2 = k(t + h, p1 - (3/7)*k_1p1*h + (2/7)*k_2p1*h + (12/7)*k_3p1 * h - (12/7)*k_4p1*h + (8/7)*k_5p1*h\n",
        "           , p2 - (3/7)*k_1p2*h + (2/7)*k_2p2*h + (12/7)*k_3p2 * h - (12/7)*k_4p2*h + (8/7)*k_5p2*h\n",
        "            , q1 - (3/7)*k_1q1*h + (2/7)*k_2q1*h + (12/7)*k_3q1 * h - (12/7)*k_4q1*h + (8/7)*k_5q1*h\n",
        "            , q2 - (3/7)*k_1q1*h + (2/7)*k_2q2*h + (12/7)*k_3q2 * h - (12/7)*k_4q2*h + (8/7)*k_5q2*h)\n",
        "\n",
        "  p1 += phi(k_1p1,k_3p1,k_4p1,k_5p1,k_6p1) * h\n",
        "  p2 += phi(k_1p2,k_3p2,k_4p2,k_5p2,k_6p2) * h\n",
        "  q1 += phi(k_1q1,k_3q1,k_4q1,k_5q1,k_6q1) * h\n",
        "  q2 += phi(k_1q2,k_3q2,k_4q2,k_5q2,k_6q2) * h\n",
        "  t += h\n",
        "  T.append(t)\n",
        "  P1.append(p1)\n",
        "  P2.append(p2)\n",
        "  Q1.append(q1)\n",
        "  Q2.append(q2)"
      ],
      "metadata": {
        "id": "MlJZaBlvOfjy"
      },
      "execution_count": 11,
      "outputs": []
    }
  ]
}